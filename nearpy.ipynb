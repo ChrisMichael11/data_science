{
 "cells": [
  {
   "cell_type": "markdown",
   "metadata": {},
   "source": [
    "## NearPy\n",
    "\n",
    "Locality Sensitive Hashing (LSH) implemented as follows: https://github.com/pixelogik/NearPy\n",
    "\n",
    "\"Fast (approximated) nearest neighbour search in high dimensional vector spaces using different locality-sensitive hashing methods.\""
   ]
  },
  {
   "cell_type": "code",
   "execution_count": 1,
   "metadata": {
    "collapsed": false
   },
   "outputs": [],
   "source": [
    "from __future__ import division\n",
    "import numpy as np\n",
    "import pandas as pd\n",
    "from sklearn.feature_extraction.text import TfidfVectorizer\n",
    "from nearpy import Engine\n",
    "from nearpy.distances import CosineDistance\n",
    "from nearpy.filters import NearestFilter\n",
    "from nearpy.hashes import RandomBinaryProjections, PCABinaryProjections\n",
    "import wikipedia"
   ]
  },
  {
   "cell_type": "code",
   "execution_count": 2,
   "metadata": {
    "collapsed": false
   },
   "outputs": [
    {
     "data": {
      "text/html": [
       "<div>\n",
       "<table border=\"1\" class=\"dataframe\">\n",
       "  <thead>\n",
       "    <tr style=\"text-align: right;\">\n",
       "      <th></th>\n",
       "      <th>name</th>\n",
       "    </tr>\n",
       "  </thead>\n",
       "  <tbody>\n",
       "    <tr>\n",
       "      <th>0</th>\n",
       "      <td>Albert Einstein</td>\n",
       "    </tr>\n",
       "    <tr>\n",
       "      <th>1</th>\n",
       "      <td>Richard Feynman</td>\n",
       "    </tr>\n",
       "    <tr>\n",
       "      <th>2</th>\n",
       "      <td>Leonhard Euler</td>\n",
       "    </tr>\n",
       "    <tr>\n",
       "      <th>3</th>\n",
       "      <td>Stephen Hawking</td>\n",
       "    </tr>\n",
       "  </tbody>\n",
       "</table>\n",
       "</div>"
      ],
      "text/plain": [
       "              name\n",
       "0  Albert Einstein\n",
       "1  Richard Feynman\n",
       "2   Leonhard Euler\n",
       "3  Stephen Hawking"
      ]
     },
     "execution_count": 2,
     "metadata": {},
     "output_type": "execute_result"
    }
   ],
   "source": [
    "df = pd.DataFrame([['Albert Einstein'],\n",
    "                    ['Richard Feynman'],\n",
    "                    ['Leonhard Euler'],\n",
    "                    ['Stephen Hawking']])\n",
    "df.columns = ['name']\n",
    "df.head()"
   ]
  },
  {
   "cell_type": "code",
   "execution_count": 3,
   "metadata": {
    "collapsed": false
   },
   "outputs": [
    {
     "data": {
      "text/html": [
       "<div>\n",
       "<table border=\"1\" class=\"dataframe\">\n",
       "  <thead>\n",
       "    <tr style=\"text-align: right;\">\n",
       "      <th></th>\n",
       "      <th>name</th>\n",
       "      <th>wiki_content</th>\n",
       "    </tr>\n",
       "  </thead>\n",
       "  <tbody>\n",
       "    <tr>\n",
       "      <th>0</th>\n",
       "      <td>Albert Einstein</td>\n",
       "      <td>Albert Einstein (/ˈaɪnstaɪn/; German: [ˈalbɛɐ̯...</td>\n",
       "    </tr>\n",
       "    <tr>\n",
       "      <th>1</th>\n",
       "      <td>Richard Feynman</td>\n",
       "      <td>Richard Phillips Feynman (/ˈfaɪnmən/; May 11, ...</td>\n",
       "    </tr>\n",
       "    <tr>\n",
       "      <th>2</th>\n",
       "      <td>Leonhard Euler</td>\n",
       "      <td>Leonhard Euler (/ˈɔɪlər/ OY-lər; Swiss Standar...</td>\n",
       "    </tr>\n",
       "    <tr>\n",
       "      <th>3</th>\n",
       "      <td>Stephen Hawking</td>\n",
       "      <td>Stephen William Hawking, CH, CBE, FRS, FRSA (/...</td>\n",
       "    </tr>\n",
       "  </tbody>\n",
       "</table>\n",
       "</div>"
      ],
      "text/plain": [
       "              name                                       wiki_content\n",
       "0  Albert Einstein  Albert Einstein (/ˈaɪnstaɪn/; German: [ˈalbɛɐ̯...\n",
       "1  Richard Feynman  Richard Phillips Feynman (/ˈfaɪnmən/; May 11, ...\n",
       "2   Leonhard Euler  Leonhard Euler (/ˈɔɪlər/ OY-lər; Swiss Standar...\n",
       "3  Stephen Hawking  Stephen William Hawking, CH, CBE, FRS, FRSA (/..."
      ]
     },
     "execution_count": 3,
     "metadata": {},
     "output_type": "execute_result"
    }
   ],
   "source": [
    "df['wiki_content'] = df['name'].map(lambda x: wikipedia.summary(x, sentences=100))\n",
    "df.head()"
   ]
  },
  {
   "cell_type": "code",
   "execution_count": 4,
   "metadata": {
    "collapsed": false
   },
   "outputs": [],
   "source": [
    "vectorizer = TfidfVectorizer(input='content', lowercase=True, tokenizer=None, \n",
    "                        stop_words='english', use_idf=True)\n",
    "tfidf = vectorizer.fit_transform(df['wiki_content'])"
   ]
  },
  {
   "cell_type": "markdown",
   "metadata": {},
   "source": [
    "LSH"
   ]
  },
  {
   "cell_type": "code",
   "execution_count": 5,
   "metadata": {
    "collapsed": false
   },
   "outputs": [],
   "source": [
    "pca = PCABinaryProjections('rbp', 10, tfidf.toarray())"
   ]
  },
  {
   "cell_type": "code",
   "execution_count": 6,
   "metadata": {
    "collapsed": false
   },
   "outputs": [],
   "source": [
    "# Dimension of our vector space\n",
    "dimension = tfidf.shape[1]\n",
    "\n",
    "# Create a random binary hash with 4 bits - need more for more data\n",
    "rbp = RandomBinaryProjections('rbp', 4)\n",
    "\n",
    "# Create engine with pipeline configuration\n",
    "engine = Engine(dimension, lshashes=[rbp],\n",
    "               distance=CosineDistance(),\n",
    "               vector_filters=[NearestFilter(2)])"
   ]
  },
  {
   "cell_type": "code",
   "execution_count": 7,
   "metadata": {
    "collapsed": false
   },
   "outputs": [],
   "source": [
    "# Store tfidf vectors\n",
    "for index in xrange(tfidf.shape[0]):\n",
    "    curr_item = list(tfidf[index].toarray().reshape(dimension))\n",
    "    engine.store_vector(curr_item, df.ix[index]['name'])"
   ]
  },
  {
   "cell_type": "code",
   "execution_count": 8,
   "metadata": {
    "collapsed": false
   },
   "outputs": [
    {
     "name": "stdout",
     "output_type": "stream",
     "text": [
      "Albert Einstein \n",
      "            neighbour_name: Albert Einstein\n",
      "            neighbour_dist: 0.0 \n",
      "        \n",
      "Richard Feynman \n",
      "            neighbour_name: Richard Feynman\n",
      "            neighbour_dist: 0.0 \n",
      "        \n",
      "Leonhard Euler \n",
      "            neighbour_name: Leonhard Euler\n",
      "            neighbour_dist: -2.22044604925e-16 \n",
      "        \n",
      "Stephen Hawking \n",
      "            neighbour_name: Stephen Hawking\n",
      "            neighbour_dist: -2.22044604925e-16 \n",
      "        \n"
     ]
    }
   ],
   "source": [
    "# Find vector nearest neighbors\n",
    "for index in xrange(tfidf.shape[0]):\n",
    "    curr_item = list(tfidf[index].toarray().reshape(dimension))    \n",
    "    N = engine.neighbours(curr_item)\n",
    "    for x in xrange(max(0, len(N))):\n",
    "        print '''{} \n",
    "            neighbour_name: {}\n",
    "            neighbour_dist: {} \n",
    "        '''.format(df.ix[index]['name'], N[x][1], N[x][2],)\n"
   ]
  },
  {
   "cell_type": "markdown",
   "metadata": {},
   "source": [
    "Euler and Einstein ended up in the same bucket, thus they are considered neighbours."
   ]
  },
  {
   "cell_type": "code",
   "execution_count": null,
   "metadata": {
    "collapsed": true
   },
   "outputs": [],
   "source": []
  }
 ],
 "metadata": {
  "kernelspec": {
   "display_name": "Python 2",
   "language": "python",
   "name": "python2"
  },
  "language_info": {
   "codemirror_mode": {
    "name": "ipython",
    "version": 2
   },
   "file_extension": ".py",
   "mimetype": "text/x-python",
   "name": "python",
   "nbconvert_exporter": "python",
   "pygments_lexer": "ipython2",
   "version": "2.7.12"
  }
 },
 "nbformat": 4,
 "nbformat_minor": 0
}
