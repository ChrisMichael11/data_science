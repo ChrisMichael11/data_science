{
 "cells": [
  {
   "cell_type": "markdown",
   "metadata": {},
   "source": [
    "## Gradient Descent\n",
    "\n",
    "[Gradient Descent](#GradientDescent)<br/>\n",
    "[SGD](#SGD) (Stochastic Gradient Descent)<br/>\n",
    "\n",
    "</br>\n",
    "[Implementation of simple scenario](#Implementation)<br/>"
   ]
  },
  {
   "cell_type": "markdown",
   "metadata": {},
   "source": [
    "<a id='GradientDescent'></a>\n",
    "### Gradient Descent\n",
    "\n",
    "Gradient descent is based on the idea that if we want to find the maximum point on a function, then the best way to move is in the direction of the gradient. \n",
    "\n",
    "$$ \\nabla f(x,y) = \\begin{pmatrix}\n",
    "   \\frac{\\delta f(x,y)}{\\delta x}\\\\\n",
    "   \\frac{\\delta f(x,y)}{\\delta y} \n",
    "   \\end{pmatrix} $$\n",
    "   \n",
    "Pseudocode:\n",
    "```\n",
    "Start with the weights all set to 1 \n",
    "Repeat R number of times:\n",
    "    Calculate the gradient of the entire dataset \n",
    "    Update the weights vector by alpha*gradient \n",
    "    Return the weights vector\n",
    "```"
   ]
  },
  {
   "cell_type": "markdown",
   "metadata": {},
   "source": [
    "<a id='SGD'></a>\n",
    "### SGD (Stochastic Gradient Descent)\n",
    "\n",
    "SGD is an alternative to gradient descent method which updates the weights using only one instance at a time.\n",
    "\n",
    "Better for large datasets where regular gradient descent is unnecessarily expensive in terms of computational resources.\n",
    "\n",
    "Pseudocode:\n",
    "```\n",
    "Start with the weights all set to 1 \n",
    "For each piece of data in the dataset:\n",
    "    Calculate the gradient of one piece of data \n",
    "    Update the weights vector by alpha*gradient \n",
    "    Return the weights vector\n",
    "```"
   ]
  },
  {
   "cell_type": "markdown",
   "metadata": {},
   "source": [
    "## Implementation of simple scenario"
   ]
  },
  {
   "cell_type": "code",
   "execution_count": 1,
   "metadata": {
    "collapsed": true
   },
   "outputs": [],
   "source": [
    "from __future__ import division\n",
    "import numpy as np"
   ]
  },
  {
   "cell_type": "markdown",
   "metadata": {},
   "source": [
    "Using gradient descent, find minimum of function `f(x) = x^2 + 2x`"
   ]
  },
  {
   "cell_type": "code",
   "execution_count": 15,
   "metadata": {
    "collapsed": false
   },
   "outputs": [
    {
     "name": "stdout",
     "output_type": "stream",
     "text": [
      "converged to: -0.999995292174\n"
     ]
    }
   ],
   "source": [
    "def deriv(x):\n",
    "    return 2*x + 2\n",
    "\n",
    "def func_min(tolerance = 0.000001, stepsize = 0.1, iterations=100):\n",
    "    x_old = np.random.randint(-20,20)\n",
    "    for i in xrange(iterations):\n",
    "        x_new = x_old - deriv(x_old) * stepsize\n",
    "        if abs(x_new - x_old) < tolerance:\n",
    "            return x_old\n",
    "        x_old = x_new\n",
    "    return x_old\n",
    "\n",
    "print 'converged to: %s' % func_min() #should be -1"
   ]
  },
  {
   "cell_type": "markdown",
   "metadata": {},
   "source": [
    "Given a result of function (f(x) = 8) and knowing the function is `f(x) = x^2 + 2x`, find x, using gradient descent.\n",
    "\n",
    "Cost function is `(y - (x^2 + 2x))^2`"
   ]
  },
  {
   "cell_type": "code",
   "execution_count": 14,
   "metadata": {
    "collapsed": false
   },
   "outputs": [
    {
     "name": "stdout",
     "output_type": "stream",
     "text": [
      "converged to: -4.04270612662\n"
     ]
    }
   ],
   "source": [
    "def func(x):\n",
    "    return x**2 + 2*x\n",
    "\n",
    "def deriv(x, y):\n",
    "    #derivation of (y - (x**2 + 2*x))**2 with respect to x\n",
    "    return -4*x*y - 4*y + 4*x**3 + 12*x**2 + 8*x\n",
    "\n",
    "def gradient_descent(y, tolerance = 0.001, stepsize = 0.0001, iterations=1000):\n",
    "    x_old = np.random.randint(-20,20)\n",
    "    for i in xrange(iterations):\n",
    "        x_new = x_old - deriv(x_old, y) * stepsize\n",
    "        cost = (func(x_new) - y)**2 - (func(x_old) - y)**2\n",
    "        x_old = x_new\n",
    "        if abs(cost) < tolerance:\n",
    "            return x_old\n",
    "    return x_old\n",
    "\n",
    "print 'converged to: %s' % gradient_descent(8.0) #2 solutions: x=2 or x=-4"
   ]
  },
  {
   "cell_type": "code",
   "execution_count": null,
   "metadata": {
    "collapsed": true
   },
   "outputs": [],
   "source": []
  }
 ],
 "metadata": {
  "kernelspec": {
   "display_name": "Python 2",
   "language": "python",
   "name": "python2"
  },
  "language_info": {
   "codemirror_mode": {
    "name": "ipython",
    "version": 2
   },
   "file_extension": ".py",
   "mimetype": "text/x-python",
   "name": "python",
   "nbconvert_exporter": "python",
   "pygments_lexer": "ipython2",
   "version": "2.7.12"
  }
 },
 "nbformat": 4,
 "nbformat_minor": 0
}
