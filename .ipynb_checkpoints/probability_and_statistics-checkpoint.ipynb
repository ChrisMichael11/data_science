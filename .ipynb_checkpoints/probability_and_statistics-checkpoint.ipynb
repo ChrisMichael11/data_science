{
 "cells": [
  {
   "cell_type": "markdown",
   "metadata": {},
   "source": [
    "## Table of Contents\n",
    "\n",
    "**Probability**<br>\n",
    "[Combinatorics](#Combinatorics)<br>\n",
    "[Conditional Probability](#Conditional)<br>\n",
    "[Random Variables](#RVs)<br>\n",
    "[Normal Distribution](#Normal)<br>\n",
    "[Binomial Distribution](#Binomial)<br>\n",
    "[Poisson Distribution](#Poisson)<br>\n",
    "\n",
    "**Statistics**<br>"
   ]
  },
  {
   "cell_type": "markdown",
   "metadata": {},
   "source": [
    "<a id='Combinatorics'></a>\n",
    "### Combinatorics\n",
    "\n",
    "**Combination** counts the number of ways of picking something when order doesn't matter.\n",
    "\n",
    "$$ \\begin{pmatrix} n \\\\ k \\end{pmatrix} = \n",
    "  \\frac {n!} {(n - k)!k!} $$\n",
    "  \n",
    "*Example:* How many ways can we arrange the letters in MISSISSIPPI?\n",
    "\n",
    "*Answer:*<br>\n",
    "Our goal is to fill 11 spots with 4 S's, 4 I's, 2 P's, and 1 M.\n",
    "\n",
    "1. Choose 4 spots for 4 S's. $\\begin{pmatrix} 11 \\\\ 4 \\end{pmatrix}$ ways.\n",
    "2. Choose 4 spots for 4 I's. $\\begin{pmatrix} 7 \\\\ 4 \\end{pmatrix}$ ways.\n",
    "3. Choose 2 spots for 2 P's. $\\begin{pmatrix} 3 \\\\ 2 \\end{pmatrix}$ ways.\n",
    "4. Choose 1 spots for 1 M. $\\begin{pmatrix} 1 \\\\ 1 \\end{pmatrix}$ way.\n",
    "\n",
    "Multiply all the things!\n",
    "$$ \\begin{pmatrix} 11 \\\\ 4 \\end{pmatrix}\n",
    " \\begin{pmatrix} 7 \\\\ 4 \\end{pmatrix}\n",
    " \\begin{pmatrix} 3 \\\\ 2 \\end{pmatrix}\n",
    " \\begin{pmatrix} 1 \\\\ 1 \\end{pmatrix} = \n",
    " \\frac{11!}{4!7!} \\cdot \\frac{7!}{4!3!} \\cdot\n",
    " \\frac{3!}{2!1!} \\cdot \\frac{1!}{1!0!} = \\frac{11!}{4!4!2!1!} $$\n",
    " \n",
    "<br>\n",
    "**Permutation** counts the number of ways of picking something when order matters.\n",
    "\n",
    "$$ _n P_r = \\frac{n!}{(n - r)!} $$\n",
    "where $n$ is the total number of objects and $r$ is the number of object you want."
   ]
  },
  {
   "cell_type": "markdown",
   "metadata": {},
   "source": [
    "<a id='Conditional'></a>\n",
    "### Conditional Probability\n",
    "\n",
    "$$ P[A|B] = \\frac {P[A \\cap B]} {P[B]} $$\n",
    "\n",
    "**Law of Total Probability**<br>\n",
    "$$ P[A] = \\sum_{j} P[A \\cap B_j] = \n",
    "   \\sum_j P[A|B_j] \\cdot P[B_j] $$\n",
    "\n",
    "**Bayes's Rule**\n",
    "$$ P[B|A] = \\frac {P[A|B] \\cdot P[B]} {P[A]} $$"
   ]
  },
  {
   "cell_type": "markdown",
   "metadata": {},
   "source": [
    "*Example:*\n",
    "You've found a secret admirer note on your desk, and don't know\n",
    "who it might've come from but you know it must've been one of your \n",
    "three office mates:  Jack, John, or Jimmy.  \n",
    "   1. As of yesterday, you thought it was twice as likely that Jimmy had a crush on you than John, and that John and Jack were equally likely to have a crush on you.<br>\n",
    "   2. However even if Jimmy liked you, you think there'd only be 5% he'd leave you a note.<br>\n",
    "   3. On the other hand, if Jack liked you there'd be a whopping 50% chance he'd leave you a note, and if John liked you, there'd be a 20% chance he'd leave you a note. \n",
    "\n",
    "What's the probability that the note came from John?\n",
    "\n",
    "*Answer:*<br>\n",
    "Let `A = a note is left` and `B = boy likes you`.<br>\n",
    "So, $B_1$ = Jack likes you, $B_2$ = John likes you, and $B_3$ = Jimmy likes you.<br>\n",
    "\n",
    "Our goal is to find $P[B_2|A]$.\n",
    "\n",
    "Turning the given information into variables:\n",
    "1. $P[B_3] = 2 \\cdot P[B_2]$ and $P[B_1] = P[B_2]$.\n",
    "2. $P[A|B_3] = 0.05$\n",
    "3. $P[A|B_1] = 0.5$ and $P[A|B_2] = 0.2$\n",
    "\n",
    "Using the law of total probability, we also know that the overall probability of receiving a note is:\n",
    "$$ P[A] = \\sum_{j=1}^3 P[A \\cap B_j] \n",
    " = \\sum_{j=1}^3 P[A|B_j] \\cdot P[B_j] $$\n",
    "$$ = P[A|B_1] \\cdot P[B_1] + P[A|B_2] \\cdot P[B_2] + \n",
    " P[A|B_3] \\cdot P[B_3] $$\n",
    " \n",
    "Using Bayes's Rule, we have:\n",
    "$$ P[B_2|A] = \\frac {P[A|B_2] \\cdot P[B_2]} {P[A]} $$\n",
    "\n",
    "We found $P[A]$ earlier and we have conditionals for all $A|B_j$,\n",
    "$$ = \\frac {0.2 \\cdot P[B_2]}\n",
    " {0.5 \\cdot P[B_1] + 0.2 \\cdot P[B_2] + 0.05 \\cdot P[B_3]} $$\n",
    " \n",
    "Substituting our $B_1$s and $B_3$s using our first given, we get:\n",
    "$$ = \\frac {0.2 \\cdot P[B_2]}\n",
    " {0.5 \\cdot P[B_2] + 0.2 \\cdot P[B_2] + 0.05 \\cdot 2 \\cdot \n",
    " P[B_2]} $$\n",
    " \n",
    "As you can see, we now have a $P[B_2]$ term for each variable, so we can reduce the equation to,\n",
    "$$ P[B_2|A] = \\frac {0.2}{0.5 + 0.2 + 0.05 \\cdot 2} \n",
    " = \\frac {0.2}{0.8} = 0.25 $$"
   ]
  },
  {
   "cell_type": "markdown",
   "metadata": {},
   "source": [
    "<a id='RVs'></a>\n",
    "### Random Variables"
   ]
  },
  {
   "cell_type": "markdown",
   "metadata": {},
   "source": [
    "<a id='Normal'></a>\n",
    "### Normal Distribution"
   ]
  },
  {
   "cell_type": "markdown",
   "metadata": {},
   "source": [
    "<a id='Binomial'></a>\n",
    "### Binomial Distribution"
   ]
  },
  {
   "cell_type": "markdown",
   "metadata": {},
   "source": [
    "<a id='Poisson'></a>\n",
    "### Poisson Distribution"
   ]
  },
  {
   "cell_type": "code",
   "execution_count": null,
   "metadata": {
    "collapsed": true
   },
   "outputs": [],
   "source": []
  }
 ],
 "metadata": {
  "kernelspec": {
   "display_name": "Python [Root]",
   "language": "python",
   "name": "Python [Root]"
  },
  "language_info": {
   "codemirror_mode": {
    "name": "ipython",
    "version": 2
   },
   "file_extension": ".py",
   "mimetype": "text/x-python",
   "name": "python",
   "nbconvert_exporter": "python",
   "pygments_lexer": "ipython2",
   "version": "2.7.12"
  }
 },
 "nbformat": 4,
 "nbformat_minor": 0
}
