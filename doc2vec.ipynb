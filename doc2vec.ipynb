{
 "cells": [
  {
   "cell_type": "markdown",
   "metadata": {},
   "source": [
    "## Doc2Vec\n",
    "\n",
    "To use this install `gensim` as follows:\n",
    "```\n",
    "$ pip install gensim\n",
    "```\n",
    "\n",
    "[Tutorial](http://rare-technologies.com/doc2vec-tutorial/) <br/>\n",
    "[Documentation](https://radimrehurek.com/gensim/models/doc2vec.html)"
   ]
  },
  {
   "cell_type": "code",
   "execution_count": 1,
   "metadata": {
    "collapsed": false
   },
   "outputs": [],
   "source": [
    "from gensim.models.doc2vec import Doc2Vec, TaggedDocument, LabeledSentence\n",
    "from nltk.stem.porter import PorterStemmer\n",
    "from nltk.corpus import stopwords\n",
    "from sqlalchemy import create_engine\n",
    "import datetime\n",
    "import pandas as pd\n",
    "import string"
   ]
  },
  {
   "cell_type": "markdown",
   "metadata": {},
   "source": [
    "Cleaning text helpers"
   ]
  },
  {
   "cell_type": "code",
   "execution_count": 2,
   "metadata": {
    "collapsed": true
   },
   "outputs": [],
   "source": [
    "stemmer = PorterStemmer()\n",
    "stop = stopwords.words('english')\n",
    "exclude = set(string.punctuation)\n",
    "\n",
    "def clean_text(text):\n",
    "    # remove non-ascii and punctuation\n",
    "    text = ''.join(char for char in text if ord(\n",
    "        char) < 128 and char not in exclude)\n",
    "    # remove stop words and stem\n",
    "    text = [stemmer.stem(word)\n",
    "            for word in text.split() if word not in stop]\n",
    "    return text"
   ]
  },
  {
   "cell_type": "markdown",
   "metadata": {},
   "source": [
    "Get data"
   ]
  },
  {
   "cell_type": "code",
   "execution_count": 3,
   "metadata": {
    "collapsed": false
   },
   "outputs": [
    {
     "data": {
      "text/html": [
       "<div>\n",
       "<table border=\"1\" class=\"dataframe\">\n",
       "  <thead>\n",
       "    <tr style=\"text-align: right;\">\n",
       "      <th></th>\n",
       "      <th>id</th>\n",
       "      <th>desc_init</th>\n",
       "    </tr>\n",
       "  </thead>\n",
       "  <tbody>\n",
       "    <tr>\n",
       "      <th>0</th>\n",
       "      <td>1</td>\n",
       "      <td>here is some sentence cats like</td>\n",
       "    </tr>\n",
       "    <tr>\n",
       "      <th>1</th>\n",
       "      <td>2</td>\n",
       "      <td>here is some other text dogs prefer</td>\n",
       "    </tr>\n",
       "    <tr>\n",
       "      <th>2</th>\n",
       "      <td>3</td>\n",
       "      <td>text about cat</td>\n",
       "    </tr>\n",
       "    <tr>\n",
       "      <th>3</th>\n",
       "      <td>4</td>\n",
       "      <td>sentence about dog</td>\n",
       "    </tr>\n",
       "  </tbody>\n",
       "</table>\n",
       "</div>"
      ],
      "text/plain": [
       "   id                            desc_init\n",
       "0   1      here is some sentence cats like\n",
       "1   2  here is some other text dogs prefer\n",
       "2   3                       text about cat\n",
       "3   4                   sentence about dog"
      ]
     },
     "execution_count": 3,
     "metadata": {},
     "output_type": "execute_result"
    }
   ],
   "source": [
    "df = pd.DataFrame([\n",
    "                [1, 'here is some sentence cats like'],\n",
    "                [2, 'here is some other text dogs prefer'],\n",
    "                [3, 'text about cat'],\n",
    "                [4, 'sentence about dog'],\n",
    "    ])\n",
    "df.columns = ['id', 'desc_init']\n",
    "df.head()"
   ]
  },
  {
   "cell_type": "markdown",
   "metadata": {},
   "source": [
    "Prepare data"
   ]
  },
  {
   "cell_type": "code",
   "execution_count": 4,
   "metadata": {
    "collapsed": false
   },
   "outputs": [
    {
     "data": {
      "text/html": [
       "<div>\n",
       "<table border=\"1\" class=\"dataframe\">\n",
       "  <thead>\n",
       "    <tr style=\"text-align: right;\">\n",
       "      <th></th>\n",
       "      <th>id</th>\n",
       "      <th>desc_init</th>\n",
       "      <th>stem</th>\n",
       "      <th>sentence</th>\n",
       "    </tr>\n",
       "  </thead>\n",
       "  <tbody>\n",
       "    <tr>\n",
       "      <th>0</th>\n",
       "      <td>1</td>\n",
       "      <td>here is some sentence cats like</td>\n",
       "      <td>[sentenc, cat, like]</td>\n",
       "      <td>([sentenc, cat, like], [1])</td>\n",
       "    </tr>\n",
       "    <tr>\n",
       "      <th>1</th>\n",
       "      <td>2</td>\n",
       "      <td>here is some other text dogs prefer</td>\n",
       "      <td>[text, dog, prefer]</td>\n",
       "      <td>([text, dog, prefer], [2])</td>\n",
       "    </tr>\n",
       "    <tr>\n",
       "      <th>2</th>\n",
       "      <td>3</td>\n",
       "      <td>text about cat</td>\n",
       "      <td>[text, cat]</td>\n",
       "      <td>([text, cat], [3])</td>\n",
       "    </tr>\n",
       "    <tr>\n",
       "      <th>3</th>\n",
       "      <td>4</td>\n",
       "      <td>sentence about dog</td>\n",
       "      <td>[sentenc, dog]</td>\n",
       "      <td>([sentenc, dog], [4])</td>\n",
       "    </tr>\n",
       "  </tbody>\n",
       "</table>\n",
       "</div>"
      ],
      "text/plain": [
       "   id                            desc_init                  stem  \\\n",
       "0   1      here is some sentence cats like  [sentenc, cat, like]   \n",
       "1   2  here is some other text dogs prefer   [text, dog, prefer]   \n",
       "2   3                       text about cat           [text, cat]   \n",
       "3   4                   sentence about dog        [sentenc, dog]   \n",
       "\n",
       "                      sentence  \n",
       "0  ([sentenc, cat, like], [1])  \n",
       "1   ([text, dog, prefer], [2])  \n",
       "2           ([text, cat], [3])  \n",
       "3        ([sentenc, dog], [4])  "
      ]
     },
     "execution_count": 4,
     "metadata": {},
     "output_type": "execute_result"
    }
   ],
   "source": [
    "df['stem'] = df['desc_init'].map(lambda x: clean_text(x))\n",
    "df['sentence'] = df.apply(lambda x: LabeledSentence(\n",
    "    words=x[2], tags=[str(x[0])]), axis=1)\n",
    "df.head()"
   ]
  },
  {
   "cell_type": "markdown",
   "metadata": {},
   "source": [
    "Create model"
   ]
  },
  {
   "cell_type": "code",
   "execution_count": 5,
   "metadata": {
    "collapsed": true
   },
   "outputs": [],
   "source": [
    "model = Doc2Vec(dm=1, dm_concat=1, size=100, window=5,\n",
    "                negative=5, hs=0, min_count=1, workers=2) #make min_count higher for more docs"
   ]
  },
  {
   "cell_type": "markdown",
   "metadata": {},
   "source": [
    "Build vocabulary"
   ]
  },
  {
   "cell_type": "code",
   "execution_count": 6,
   "metadata": {
    "collapsed": true
   },
   "outputs": [],
   "source": [
    "model.build_vocab(df['sentence'])"
   ]
  },
  {
   "cell_type": "markdown",
   "metadata": {},
   "source": [
    "Train model"
   ]
  },
  {
   "cell_type": "code",
   "execution_count": 7,
   "metadata": {
    "collapsed": false
   },
   "outputs": [
    {
     "name": "stdout",
     "output_type": "stream",
     "text": [
      "2016-07-30 19:41:10.525450: epoch 0\n",
      "2016-07-30 19:41:10.529073: epoch 1\n",
      "2016-07-30 19:41:10.531195: epoch 2\n",
      "2016-07-30 19:41:10.533322: epoch 3\n",
      "2016-07-30 19:41:10.535402: epoch 4\n",
      "2016-07-30 19:41:10.537760: epoch 5\n",
      "2016-07-30 19:41:10.539945: epoch 6\n",
      "2016-07-30 19:41:10.541987: epoch 7\n",
      "2016-07-30 19:41:10.544038: epoch 8\n",
      "2016-07-30 19:41:10.546137: epoch 9\n"
     ]
    }
   ],
   "source": [
    "for epoch in range(10):\n",
    "    print '{}: epoch {}'.format(datetime.datetime.now(), epoch)\n",
    "    model.train(df['sentence'])\n",
    "    model.alpha -= 0.002  # decrease the learning rate\n",
    "    model.min_alpha = model.alpha  # fix the learning rate, no decay"
   ]
  },
  {
   "cell_type": "markdown",
   "metadata": {},
   "source": [
    "Save / load model"
   ]
  },
  {
   "cell_type": "code",
   "execution_count": 8,
   "metadata": {
    "collapsed": true
   },
   "outputs": [],
   "source": [
    "# model.save('doc2vec_model')\n",
    "# model = Doc2Vec.load('../data/doc2vec_model')"
   ]
  },
  {
   "cell_type": "markdown",
   "metadata": {},
   "source": [
    "Find similar documents"
   ]
  },
  {
   "cell_type": "code",
   "execution_count": 9,
   "metadata": {
    "collapsed": false
   },
   "outputs": [
    {
     "name": "stdout",
     "output_type": "stream",
     "text": [
      "[('3', 0.1622544527053833), ('4', -0.15972083806991577)]\n"
     ]
    }
   ],
   "source": [
    "# two most similar documents to document id 1\n",
    "print model.docvecs.most_similar('1', topn=2)"
   ]
  },
  {
   "cell_type": "code",
   "execution_count": 10,
   "metadata": {
    "collapsed": false
   },
   "outputs": [
    {
     "name": "stdout",
     "output_type": "stream",
     "text": [
      "[('1', 0.18620765209197998)]\n"
     ]
    }
   ],
   "source": [
    "# the most similar documents to a sentence\n",
    "vec = model.infer_vector(['cat', 'sentence'])\n",
    "print model.docvecs.most_similar([vec], topn=1)"
   ]
  },
  {
   "cell_type": "code",
   "execution_count": null,
   "metadata": {
    "collapsed": true
   },
   "outputs": [],
   "source": []
  }
 ],
 "metadata": {
  "kernelspec": {
   "display_name": "Python 2",
   "language": "python",
   "name": "python2"
  },
  "language_info": {
   "codemirror_mode": {
    "name": "ipython",
    "version": 2
   },
   "file_extension": ".py",
   "mimetype": "text/x-python",
   "name": "python",
   "nbconvert_exporter": "python",
   "pygments_lexer": "ipython2",
   "version": "2.7.12"
  }
 },
 "nbformat": 4,
 "nbformat_minor": 0
}
