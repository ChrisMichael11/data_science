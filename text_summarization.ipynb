{
 "cells": [
  {
   "cell_type": "markdown",
   "metadata": {},
   "source": [
    "## Text summarization\n",
    "\n",
    "As per this gensim post http://rare-technologies.com/text-summarization-with-gensim/"
   ]
  },
  {
   "cell_type": "code",
   "execution_count": 1,
   "metadata": {
    "collapsed": true
   },
   "outputs": [],
   "source": [
    "from __future__ import division\n",
    "from gensim.summarization import summarize, keywords\n",
    "import wikipedia"
   ]
  },
  {
   "cell_type": "code",
   "execution_count": 2,
   "metadata": {
    "collapsed": false
   },
   "outputs": [
    {
     "data": {
      "text/html": [
       "<div>\n",
       "<table border=\"1\" class=\"dataframe\">\n",
       "  <thead>\n",
       "    <tr style=\"text-align: right;\">\n",
       "      <th></th>\n",
       "      <th>name</th>\n",
       "    </tr>\n",
       "  </thead>\n",
       "  <tbody>\n",
       "    <tr>\n",
       "      <th>0</th>\n",
       "      <td>Albert Einstein</td>\n",
       "    </tr>\n",
       "    <tr>\n",
       "      <th>1</th>\n",
       "      <td>Richard Feynman</td>\n",
       "    </tr>\n",
       "    <tr>\n",
       "      <th>2</th>\n",
       "      <td>Leonhard Euler</td>\n",
       "    </tr>\n",
       "    <tr>\n",
       "      <th>3</th>\n",
       "      <td>Stephen Hawking</td>\n",
       "    </tr>\n",
       "  </tbody>\n",
       "</table>\n",
       "</div>"
      ],
      "text/plain": [
       "              name\n",
       "0  Albert Einstein\n",
       "1  Richard Feynman\n",
       "2   Leonhard Euler\n",
       "3  Stephen Hawking"
      ]
     },
     "execution_count": 2,
     "metadata": {},
     "output_type": "execute_result"
    }
   ],
   "source": [
    "df = pd.DataFrame([['Albert Einstein'],\n",
    "                    ['Richard Feynman'],\n",
    "                    ['Leonhard Euler'],\n",
    "                    ['Stephen Hawking']])\n",
    "df.columns = ['name']\n",
    "df.head()"
   ]
  },
  {
   "cell_type": "markdown",
   "metadata": {},
   "source": [
    "Get firt 100 sentences about each person from wiki, extract keywords and summary."
   ]
  },
  {
   "cell_type": "code",
   "execution_count": 3,
   "metadata": {
    "collapsed": false
   },
   "outputs": [
    {
     "data": {
      "text/html": [
       "<div>\n",
       "<table border=\"1\" class=\"dataframe\">\n",
       "  <thead>\n",
       "    <tr style=\"text-align: right;\">\n",
       "      <th></th>\n",
       "      <th>name</th>\n",
       "      <th>wiki_content</th>\n",
       "      <th>content_keywords</th>\n",
       "      <th>content_summary</th>\n",
       "    </tr>\n",
       "  </thead>\n",
       "  <tbody>\n",
       "    <tr>\n",
       "      <th>0</th>\n",
       "      <td>Albert Einstein</td>\n",
       "      <td>Albert Einstein (/ˈaɪnstaɪn/; German: [ˈalbɛɐ̯...</td>\n",
       "      <td>einstein\\nmechanics\\ngeneral theory\\nfield\\nth...</td>\n",
       "      <td>He developed the general theory of relativity,...</td>\n",
       "    </tr>\n",
       "    <tr>\n",
       "      <th>1</th>\n",
       "      <td>Richard Feynman</td>\n",
       "      <td>Richard Phillips Feynman (/ˈfaɪnmən/; May 11, ...</td>\n",
       "      <td>challenger\\nshuttle\\npublication\\npath integra...</td>\n",
       "      <td>Richard Phillips Feynman (/ˈfaɪnmən/; May 11, ...</td>\n",
       "    </tr>\n",
       "    <tr>\n",
       "      <th>2</th>\n",
       "      <td>Leonhard Euler</td>\n",
       "      <td>Leonhard Euler (/ˈɔɪlər/ OY-lər; Swiss Standar...</td>\n",
       "      <td>theory\\nmathematicians\\neuler\\nswiss\\ngerman\\n...</td>\n",
       "      <td>Leonhard Euler (/ˈɔɪlər/ OY-lər; Swiss Standar...</td>\n",
       "    </tr>\n",
       "    <tr>\n",
       "      <th>3</th>\n",
       "      <td>Stephen Hawking</td>\n",
       "      <td>Stephen William Hawking, CH, CBE, FRS, FRSA (/...</td>\n",
       "      <td>fellow\\nhonorary\\npresidential\\nmedal\\ngradual...</td>\n",
       "      <td>Hawking was the Lucasian Professor of Mathemat...</td>\n",
       "    </tr>\n",
       "  </tbody>\n",
       "</table>\n",
       "</div>"
      ],
      "text/plain": [
       "              name                                       wiki_content  \\\n",
       "0  Albert Einstein  Albert Einstein (/ˈaɪnstaɪn/; German: [ˈalbɛɐ̯...   \n",
       "1  Richard Feynman  Richard Phillips Feynman (/ˈfaɪnmən/; May 11, ...   \n",
       "2   Leonhard Euler  Leonhard Euler (/ˈɔɪlər/ OY-lər; Swiss Standar...   \n",
       "3  Stephen Hawking  Stephen William Hawking, CH, CBE, FRS, FRSA (/...   \n",
       "\n",
       "                                    content_keywords  \\\n",
       "0  einstein\\nmechanics\\ngeneral theory\\nfield\\nth...   \n",
       "1  challenger\\nshuttle\\npublication\\npath integra...   \n",
       "2  theory\\nmathematicians\\neuler\\nswiss\\ngerman\\n...   \n",
       "3  fellow\\nhonorary\\npresidential\\nmedal\\ngradual...   \n",
       "\n",
       "                                     content_summary  \n",
       "0  He developed the general theory of relativity,...  \n",
       "1  Richard Phillips Feynman (/ˈfaɪnmən/; May 11, ...  \n",
       "2  Leonhard Euler (/ˈɔɪlər/ OY-lər; Swiss Standar...  \n",
       "3  Hawking was the Lucasian Professor of Mathemat...  "
      ]
     },
     "execution_count": 3,
     "metadata": {},
     "output_type": "execute_result"
    }
   ],
   "source": [
    "df['wiki_content'] = df['name'].map(lambda x: wikipedia.summary(x, sentences=100))\n",
    "df['content_keywords'] = df['wiki_content'].map(lambda x: keywords(x, ratio=0.9, lemmatize=True))\n",
    "df['content_summary'] = df['wiki_content'].map(lambda x: summarize(x))\n",
    "df.head()"
   ]
  },
  {
   "cell_type": "markdown",
   "metadata": {
    "collapsed": true
   },
   "source": [
    "### Do something more with the keywords"
   ]
  },
  {
   "cell_type": "code",
   "execution_count": 4,
   "metadata": {
    "collapsed": true
   },
   "outputs": [],
   "source": [
    "from nltk.stem.porter import PorterStemmer\n",
    "from sklearn.feature_extraction.text import TfidfVectorizer, CountVectorizer\n",
    "from sklearn.metrics.pairwise import pairwise_distances"
   ]
  },
  {
   "cell_type": "markdown",
   "metadata": {},
   "source": [
    "Stem the keywords for easier comparison."
   ]
  },
  {
   "cell_type": "code",
   "execution_count": 5,
   "metadata": {
    "collapsed": false
   },
   "outputs": [
    {
     "data": {
      "text/html": [
       "<div>\n",
       "<table border=\"1\" class=\"dataframe\">\n",
       "  <thead>\n",
       "    <tr style=\"text-align: right;\">\n",
       "      <th></th>\n",
       "      <th>name</th>\n",
       "      <th>wiki_content</th>\n",
       "      <th>content_keywords</th>\n",
       "      <th>content_summary</th>\n",
       "      <th>stem_keywords</th>\n",
       "    </tr>\n",
       "  </thead>\n",
       "  <tbody>\n",
       "    <tr>\n",
       "      <th>0</th>\n",
       "      <td>Albert Einstein</td>\n",
       "      <td>Albert Einstein (/ˈaɪnstaɪn/; German: [ˈalbɛɐ̯...</td>\n",
       "      <td>einstein\\nmechanics\\ngeneral theory\\nfield\\nth...</td>\n",
       "      <td>He developed the general theory of relativity,...</td>\n",
       "      <td>einstein mechan gener theori field theoret ger...</td>\n",
       "    </tr>\n",
       "    <tr>\n",
       "      <th>1</th>\n",
       "      <td>Richard Feynman</td>\n",
       "      <td>Richard Phillips Feynman (/ˈfaɪnmən/; May 11, ...</td>\n",
       "      <td>challenger\\nshuttle\\npublication\\npath integra...</td>\n",
       "      <td>Richard Phillips Feynman (/ˈfaɪnmən/; May 11, ...</td>\n",
       "      <td>challeng shuttl public path integr formul inst...</td>\n",
       "    </tr>\n",
       "    <tr>\n",
       "      <th>2</th>\n",
       "      <td>Leonhard Euler</td>\n",
       "      <td>Leonhard Euler (/ˈɔɪlər/ OY-lər; Swiss Standar...</td>\n",
       "      <td>theory\\nmathematicians\\neuler\\nswiss\\ngerman\\n...</td>\n",
       "      <td>Leonhard Euler (/ˈɔɪlər/ OY-lər; Swiss Standar...</td>\n",
       "      <td>theori mathematician euler swiss german mathem...</td>\n",
       "    </tr>\n",
       "    <tr>\n",
       "      <th>3</th>\n",
       "      <td>Stephen Hawking</td>\n",
       "      <td>Stephen William Hawking, CH, CBE, FRS, FRSA (/...</td>\n",
       "      <td>fellow\\nhonorary\\npresidential\\nmedal\\ngradual...</td>\n",
       "      <td>Hawking was the Lucasian Professor of Mathemat...</td>\n",
       "      <td>fellow honorari presidenti medal gradual paral...</td>\n",
       "    </tr>\n",
       "  </tbody>\n",
       "</table>\n",
       "</div>"
      ],
      "text/plain": [
       "              name                                       wiki_content  \\\n",
       "0  Albert Einstein  Albert Einstein (/ˈaɪnstaɪn/; German: [ˈalbɛɐ̯...   \n",
       "1  Richard Feynman  Richard Phillips Feynman (/ˈfaɪnmən/; May 11, ...   \n",
       "2   Leonhard Euler  Leonhard Euler (/ˈɔɪlər/ OY-lər; Swiss Standar...   \n",
       "3  Stephen Hawking  Stephen William Hawking, CH, CBE, FRS, FRSA (/...   \n",
       "\n",
       "                                    content_keywords  \\\n",
       "0  einstein\\nmechanics\\ngeneral theory\\nfield\\nth...   \n",
       "1  challenger\\nshuttle\\npublication\\npath integra...   \n",
       "2  theory\\nmathematicians\\neuler\\nswiss\\ngerman\\n...   \n",
       "3  fellow\\nhonorary\\npresidential\\nmedal\\ngradual...   \n",
       "\n",
       "                                     content_summary  \\\n",
       "0  He developed the general theory of relativity,...   \n",
       "1  Richard Phillips Feynman (/ˈfaɪnmən/; May 11, ...   \n",
       "2  Leonhard Euler (/ˈɔɪlər/ OY-lər; Swiss Standar...   \n",
       "3  Hawking was the Lucasian Professor of Mathemat...   \n",
       "\n",
       "                                       stem_keywords  \n",
       "0  einstein mechan gener theori field theoret ger...  \n",
       "1  challeng shuttl public path integr formul inst...  \n",
       "2  theori mathematician euler swiss german mathem...  \n",
       "3  fellow honorari presidenti medal gradual paral...  "
      ]
     },
     "execution_count": 5,
     "metadata": {},
     "output_type": "execute_result"
    }
   ],
   "source": [
    "stemmer = PorterStemmer()\n",
    "df['stem_keywords'] = df['content_keywords'].map(lambda x: ' '.join(stemmer.stem(word) for word in x.split()))\n",
    "df.head()"
   ]
  },
  {
   "cell_type": "markdown",
   "metadata": {},
   "source": [
    "Try cosine distance on tfidf matrix to see who is similar to whom."
   ]
  },
  {
   "cell_type": "code",
   "execution_count": 6,
   "metadata": {
    "collapsed": false
   },
   "outputs": [],
   "source": [
    "tfidf_vect = TfidfVectorizer(input='content', lowercase=False, tokenizer=None, stop_words='english', use_idf=True)\n",
    "tfidf = tfidf_vect.fit_transform(df['stem_keywords'])"
   ]
  },
  {
   "cell_type": "code",
   "execution_count": 7,
   "metadata": {
    "collapsed": false
   },
   "outputs": [
    {
     "name": "stdout",
     "output_type": "stream",
     "text": [
      "[[-0.          0.89185467  0.9207151   0.88890348]\n",
      " [ 0.89185467  0.          0.96882654  0.93670002]\n",
      " [ 0.9207151   0.96882654 -0.          0.96913659]\n",
      " [ 0.88890348  0.93670002  0.96913659  0.        ]]\n"
     ]
    }
   ],
   "source": [
    "np.set_printoptions(suppress=True) # turn off scientific notation when printing numbers\n",
    "print pairwise_distances(tfidf, metric='cosine')"
   ]
  },
  {
   "cell_type": "markdown",
   "metadata": {},
   "source": [
    "Try cosine similarity on bag of words to see who is similar to whom."
   ]
  },
  {
   "cell_type": "code",
   "execution_count": 8,
   "metadata": {
    "collapsed": false
   },
   "outputs": [],
   "source": [
    "cnt_vect = CountVectorizer()\n",
    "cnt = cnt_vect.fit_transform(df['stem_keywords'])"
   ]
  },
  {
   "cell_type": "code",
   "execution_count": 9,
   "metadata": {
    "collapsed": false
   },
   "outputs": [
    {
     "name": "stdout",
     "output_type": "stream",
     "text": [
      "[[ 0.          0.8989899   0.92682927  0.89565217]\n",
      " [ 0.8989899   0.          0.97222222  0.92857143]\n",
      " [ 0.92682927  0.97222222  0.          0.968     ]\n",
      " [ 0.89565217  0.92857143  0.968       0.        ]]\n"
     ]
    }
   ],
   "source": [
    "print pairwise_distances(cnt.toarray(), metric='jaccard')"
   ]
  },
  {
   "cell_type": "markdown",
   "metadata": {},
   "source": [
    "Based on stemmed keywords, Einstein is closest Feynman. Cosine distance in this scenario yields pretty much the same results as jaccard distance."
   ]
  },
  {
   "cell_type": "code",
   "execution_count": null,
   "metadata": {
    "collapsed": true
   },
   "outputs": [],
   "source": []
  }
 ],
 "metadata": {
  "kernelspec": {
   "display_name": "Python 2",
   "language": "python",
   "name": "python2"
  },
  "language_info": {
   "codemirror_mode": {
    "name": "ipython",
    "version": 2
   },
   "file_extension": ".py",
   "mimetype": "text/x-python",
   "name": "python",
   "nbconvert_exporter": "python",
   "pygments_lexer": "ipython2",
   "version": "2.7.12"
  }
 },
 "nbformat": 4,
 "nbformat_minor": 0
}
